{
  "nbformat": 4,
  "nbformat_minor": 0,
  "metadata": {
    "colab": {
      "provenance": [],
      "authorship_tag": "ABX9TyM4Ionk8Z0SbUv10/Ox1FFB",
      "include_colab_link": true
    },
    "kernelspec": {
      "name": "python3",
      "display_name": "Python 3"
    },
    "language_info": {
      "name": "python"
    }
  },
  "cells": [
    {
      "cell_type": "markdown",
      "metadata": {
        "id": "view-in-github",
        "colab_type": "text"
      },
      "source": [
        "<a href=\"https://colab.research.google.com/github/Mahesh0152/task2/blob/main/Softwareeng.ipynb\" target=\"_parent\"><img src=\"https://colab.research.google.com/assets/colab-badge.svg\" alt=\"Open In Colab\"/></a>"
      ]
    },
    {
      "cell_type": "markdown",
      "source": [
        "# Version 1: Using Hardcoded Variables\n"
      ],
      "metadata": {
        "id": "REwfvAJXMIgv"
      }
    },
    {
      "cell_type": "code",
      "source": [
        "# Hardcoded numbers\n",
        "x = 10\n",
        "y = 20\n",
        "square1 = x ** 2\n",
        "square2 = y ** 2\n",
        "mean = (x + y) / 2\n",
        "print(f\"Numbers are: {x}, {y}\")\n",
        "print(f\"Squares: {x}, {y}\")\n",
        "print(f\"Mean: {mean}\")"
      ],
      "metadata": {
        "colab": {
          "base_uri": "https://localhost:8080/"
        },
        "id": "6bEUUVmaMNTG",
        "outputId": "5e9c3d2c-1104-432f-9ce0-ba3a6043798d"
      },
      "execution_count": null,
      "outputs": [
        {
          "output_type": "stream",
          "name": "stdout",
          "text": [
            "Numbers are: 10, 20\n",
            "Squares: 10, 20\n",
            "Mean: 15.0\n"
          ]
        }
      ]
    },
    {
      "cell_type": "markdown",
      "source": [
        "# Version 2: Keyboard Input"
      ],
      "metadata": {
        "id": "Mt2PEPZlNNJu"
      }
    },
    {
      "cell_type": "code",
      "source": [
        "# Take inputs from the user\n",
        "number1 = float(input(\"Enter the first number: \"))\n",
        "number2 = float(input(\"Enter the second number: \"))\n",
        "square1 = number1 ** 2\n",
        "square2 = number2 ** 2\n",
        "mean = (number1 + number2) / 2\n",
        "print(f\"Numbers: {number1}, {number2}\")\n",
        "print(f\"Squares: {square1}, {square2}\")\n",
        "print(f\"Mean: {mean}\")"
      ],
      "metadata": {
        "colab": {
          "base_uri": "https://localhost:8080/"
        },
        "id": "hts0YYMbMgmO",
        "outputId": "15efd86f-4c18-41a3-bbcc-39e7bb09d012"
      },
      "execution_count": null,
      "outputs": [
        {
          "output_type": "stream",
          "name": "stdout",
          "text": [
            "Enter the first number: 3\n",
            "Enter the second number: 9\n",
            "Numbers: 3.0, 9.0\n",
            "Squares: 9.0, 81.0\n",
            "Mean: 6.0\n"
          ]
        }
      ]
    },
    {
      "cell_type": "markdown",
      "source": [
        "# Version 3: Read from a File (Single Input)"
      ],
      "metadata": {
        "id": "PZUvqRQDNGDF"
      }
    },
    {
      "cell_type": "code",
      "source": [
        "# @title Version 3: Read From File (Square and Mean)\n",
        "with open(\"singletext.txt\", \"w\") as f:\n",
        "    f.write(\"10 20\")\n",
        "try:\n",
        "    with open(\"singletext.txt\", \"r\") as f:\n",
        "        numbers = list(map(float, f.read().strip().split()))\n",
        "        if len(numbers) >= 2:\n",
        "            num1, num2 = numbers[:2]\n",
        "            square1 = num1 ** 2\n",
        "            square2 = num2 ** 2\n",
        "            mean = (num1 + num2) / 2\n",
        "            print(f\"Numbers: {num1}, {num2}\")\n",
        "            print(f\"Squares: {square1}, {square2}\")\n",
        "            print(f\"Mean: {mean}\")\n",
        "        else:\n",
        "            print(\"The file must contain at least two numbers.\")\n",
        "except FileNotFoundError:\n",
        "    print(\"File not there.\")\n",
        "except ValueError:\n",
        "    print(\"Error in reading or converting the input.\")\n"
      ],
      "metadata": {
        "colab": {
          "base_uri": "https://localhost:8080/"
        },
        "id": "2PZ0T7M5NJwF",
        "outputId": "d8e19273-a721-4894-fffa-39ffb3bb4201"
      },
      "execution_count": null,
      "outputs": [
        {
          "output_type": "stream",
          "name": "stdout",
          "text": [
            "Numbers: 10.0, 20.0\n",
            "Squares: 100.0, 400.0\n",
            "Mean: 15.0\n"
          ]
        }
      ]
    },
    {
      "cell_type": "markdown",
      "source": [
        "# Version 4: Read from a File (Multiple Inputs)"
      ],
      "metadata": {
        "id": "WUW-bg-NPBoc"
      }
    },
    {
      "cell_type": "code",
      "source": [
        "try:\n",
        "  with open(\"multipleinputs.txt\", \"r\") as file:\n",
        "            for line in file:\n",
        "                numbers = list(map(float, line.strip().split()))\n",
        "                if len(numbers) >= 2:\n",
        "                    number1, number2 = numbers[:2]\n",
        "                    square1 = number1 ** 2\n",
        "                    square2 = number2 ** 2\n",
        "                    mean = (number1 + number2) / 2\n",
        "                    print(f\"Numbers: {number1}, {number2}\")\n",
        "                    print(f\"Squares: {square1}, {square2}\")\n",
        "                    print(f\"Mean: {mean}\")\n",
        "                else:\n",
        "                    print(\"Line must contain at least two numbers.\")\n",
        "except FileNotFoundError:\n",
        "  print(\"File not found. Please create 'multiple_inputs.txt' with at least two numbers per line.\")\n",
        "except ValueError:\n",
        "  print(\"File contains invalid data. Ensure the file has valid numbers.\")"
      ],
      "metadata": {
        "colab": {
          "base_uri": "https://localhost:8080/"
        },
        "id": "SF2kUZsgPJ31",
        "outputId": "e9567126-0d09-4c2b-907f-4460d2e1dbd1"
      },
      "execution_count": null,
      "outputs": [
        {
          "output_type": "stream",
          "name": "stdout",
          "text": [
            "Numbers: 10.0, 20.0\n",
            "Squares: 100.0, 400.0\n",
            "Mean: 15.0\n",
            "Numbers: 30.0, 40.0\n",
            "Squares: 900.0, 1600.0\n",
            "Mean: 35.0\n",
            "Numbers: 50.0, 60.0\n",
            "Squares: 2500.0, 3600.0\n",
            "Mean: 55.0\n"
          ]
        }
      ]
    }
  ]
}